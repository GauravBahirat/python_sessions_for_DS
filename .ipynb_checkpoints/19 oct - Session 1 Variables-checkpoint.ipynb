{
 "cells": [
  {
   "cell_type": "code",
   "execution_count": null,
   "id": "2633ed4f",
   "metadata": {},
   "outputs": [],
   "source": [
    "# I am modifying the code "
   ]
  },
  {
   "cell_type": "markdown",
   "id": "80ee0d3f",
   "metadata": {},
   "source": [
    "# Variables"
   ]
  },
  {
   "cell_type": "markdown",
   "id": "d34579a8",
   "metadata": {},
   "source": [
    "- variable term vary \n",
    "- you want to save some values at some place, that place is called variables\n",
    "- variable and constant \n"
   ]
  },
  {
   "cell_type": "code",
   "execution_count": 1,
   "id": "ffa5d1c1",
   "metadata": {},
   "outputs": [
    {
     "data": {
      "text/plain": [
       "100"
      ]
     },
     "execution_count": 1,
     "metadata": {},
     "output_type": "execute_result"
    }
   ],
   "source": [
    "number=100  # 100 value is stored in variable called number \n",
    "number "
   ]
  },
  {
   "cell_type": "code",
   "execution_count": 2,
   "id": "66e10f5e",
   "metadata": {},
   "outputs": [
    {
     "data": {
      "text/plain": [
       "200"
      ]
     },
     "execution_count": 2,
     "metadata": {},
     "output_type": "execute_result"
    }
   ],
   "source": [
    "number=200\n",
    "number "
   ]
  },
  {
   "cell_type": "code",
   "execution_count": 3,
   "id": "7d521d04",
   "metadata": {},
   "outputs": [],
   "source": [
    "# so here first number has value 100 \n",
    "# second number has 200 \n",
    "# number is changing its value \n",
    "# thats why we are calling number as variable "
   ]
  },
  {
   "cell_type": "markdown",
   "id": "11801732",
   "metadata": {},
   "source": [
    "# Rules to define variables "
   ]
  },
  {
   "cell_type": "code",
   "execution_count": 4,
   "id": "c6210f9c",
   "metadata": {},
   "outputs": [
    {
     "data": {
      "text/plain": [
       "300"
      ]
     },
     "execution_count": 4,
     "metadata": {},
     "output_type": "execute_result"
    }
   ],
   "source": [
    "# upper case \n",
    "NUMBER=300\n",
    "NUMBER\n"
   ]
  },
  {
   "cell_type": "code",
   "execution_count": 5,
   "id": "b27e7253",
   "metadata": {},
   "outputs": [
    {
     "data": {
      "text/plain": [
       "400"
      ]
     },
     "execution_count": 5,
     "metadata": {},
     "output_type": "execute_result"
    }
   ],
   "source": [
    "# lower case\n",
    "number=400\n",
    "number"
   ]
  },
  {
   "cell_type": "code",
   "execution_count": 7,
   "id": "6b2f6058",
   "metadata": {},
   "outputs": [
    {
     "data": {
      "text/plain": [
       "500"
      ]
     },
     "execution_count": 7,
     "metadata": {},
     "output_type": "execute_result"
    }
   ],
   "source": [
    "# combination of upper and lower case \n",
    "NUMber=500\n",
    "NUMber"
   ]
  },
  {
   "cell_type": "markdown",
   "id": "9c150e0c",
   "metadata": {},
   "source": [
    "** Note** :- Sum is a math operation it will works in variables "
   ]
  },
  {
   "cell_type": "code",
   "execution_count": 8,
   "id": "cc7b4938",
   "metadata": {},
   "outputs": [
    {
     "data": {
      "text/plain": [
       "25"
      ]
     },
     "execution_count": 8,
     "metadata": {},
     "output_type": "execute_result"
    }
   ],
   "source": [
    "# underscore \n",
    "abc_xyz=25\n",
    "abc_xyz"
   ]
  },
  {
   "cell_type": "code",
   "execution_count": 9,
   "id": "d1d26a3c",
   "metadata": {},
   "outputs": [
    {
     "ename": "SyntaxError",
     "evalue": "invalid syntax (2192064820.py, line 2)",
     "output_type": "error",
     "traceback": [
      "\u001b[1;36m  Cell \u001b[1;32mIn[9], line 2\u001b[1;36m\u001b[0m\n\u001b[1;33m    number one=700\u001b[0m\n\u001b[1;37m           ^\u001b[0m\n\u001b[1;31mSyntaxError\u001b[0m\u001b[1;31m:\u001b[0m invalid syntax\n"
     ]
    }
   ],
   "source": [
    "# Spaces not allowed \n",
    "number one=700\n",
    "number one"
   ]
  },
  {
   "cell_type": "code",
   "execution_count": 10,
   "id": "4bc4506e",
   "metadata": {},
   "outputs": [
    {
     "data": {
      "text/plain": [
       "800"
      ]
     },
     "execution_count": 10,
     "metadata": {},
     "output_type": "execute_result"
    }
   ],
   "source": [
    "#alpha numeric \n",
    "gaurav123=800\n",
    "gaurav123"
   ]
  },
  {
   "cell_type": "code",
   "execution_count": 11,
   "id": "a66042f1",
   "metadata": {},
   "outputs": [
    {
     "data": {
      "text/plain": [
       "900"
      ]
     },
     "execution_count": 11,
     "metadata": {},
     "output_type": "execute_result"
    }
   ],
   "source": [
    "_=900\n",
    "_"
   ]
  },
  {
   "cell_type": "markdown",
   "id": "32b36fad",
   "metadata": {},
   "source": [
    "# BASICS"
   ]
  },
  {
   "cell_type": "markdown",
   "id": "66cc206e",
   "metadata": {},
   "source": [
    "######################## Level -1 #############################\n",
    "1) Basic syntax \n",
    "2) Variables \n",
    "3) python packages information \n",
    "4) Basic python code \n",
    "5) conditional statements \n",
    "6) functions \n",
    "7) loop "
   ]
  },
  {
   "cell_type": "markdown",
   "id": "b5a47573",
   "metadata": {},
   "source": [
    "##########################Level -2 ###########################\n",
    "1) Strings \n",
    "2) List \n",
    "3) dictionary \n",
    "4) tuples --------------- writeup \n",
    "5) sets \n",
    "6) file handling sessions \n",
    "\n",
    "############ 2 Weeks gap +++++++++++++++ Statistics theory \n",
    "\n",
    "# EDA : Python "
   ]
  },
  {
   "cell_type": "code",
   "execution_count": null,
   "id": "09ee00f0",
   "metadata": {},
   "outputs": [],
   "source": [
    "########################### Level-3 ########################\n",
    "1) OOPs Concepts in python \n",
    "2) How to create your own packages \n",
    "3) FLASK APPS "
   ]
  }
 ],
 "metadata": {
  "kernelspec": {
   "display_name": "Python 3 (ipykernel)",
   "language": "python",
   "name": "python3"
  },
  "language_info": {
   "codemirror_mode": {
    "name": "ipython",
    "version": 3
   },
   "file_extension": ".py",
   "mimetype": "text/x-python",
   "name": "python",
   "nbconvert_exporter": "python",
   "pygments_lexer": "ipython3",
   "version": "3.11.5"
  }
 },
 "nbformat": 4,
 "nbformat_minor": 5
}
