{
 "cells": [
  {
   "cell_type": "markdown",
   "id": "19adfae3",
   "metadata": {},
   "source": [
    "# Data Types :- session 2 "
   ]
  },
  {
   "cell_type": "markdown",
   "id": "5aa73f08",
   "metadata": {},
   "source": [
    "- integer               -----    int \n",
    "- float                 -----    float \n",
    "- strings               -----    str \n",
    "- boolean               -----    bool \n",
    "- complex conjugate     -----    complex "
   ]
  },
  {
   "cell_type": "markdown",
   "id": "93ab4758",
   "metadata": {},
   "source": [
    "$integer$"
   ]
  },
  {
   "cell_type": "code",
   "execution_count": 4,
   "id": "1c65e167",
   "metadata": {},
   "outputs": [
    {
     "name": "stdout",
     "output_type": "stream",
     "text": [
      "100\n"
     ]
    },
    {
     "data": {
      "text/plain": [
       "int"
      ]
     },
     "execution_count": 4,
     "metadata": {},
     "output_type": "execute_result"
    }
   ],
   "source": [
    "number=100\n",
    "print (number)\n",
    "type(number)"
   ]
  },
  {
   "cell_type": "code",
   "execution_count": 5,
   "id": "d18001d2",
   "metadata": {},
   "outputs": [
    {
     "data": {
      "text/plain": [
       "int"
      ]
     },
     "execution_count": 5,
     "metadata": {},
     "output_type": "execute_result"
    }
   ],
   "source": [
    "# type of variable : type \n",
    "type(number)"
   ]
  },
  {
   "cell_type": "markdown",
   "id": "a23c80ad",
   "metadata": {},
   "source": [
    "# in maths we have different number Systems \n",
    "- decimal \n",
    "- binary \n",
    "- octal \n",
    "- hexa "
   ]
  },
  {
   "cell_type": "markdown",
   "id": "e63fea05",
   "metadata": {},
   "source": [
    "#### Binary \n",
    "- Bi means 2 \n",
    "- so the bae is also 2 \n",
    "- 0 1 2 3 4 5 6 7 8 9 \n",
    "- here will use only two digits : 0 and 1 \n",
    "- representation is : 0b <combination of 0 and 1> \n",
    "- ob110, 0B011101"
   ]
  },
  {
   "cell_type": "code",
   "execution_count": 7,
   "id": "b77c9d22",
   "metadata": {},
   "outputs": [
    {
     "data": {
      "text/plain": [
       "7"
      ]
     },
     "execution_count": 7,
     "metadata": {},
     "output_type": "execute_result"
    }
   ],
   "source": [
    "0b111\n",
    "# Python output will come as decimal format only "
   ]
  },
  {
   "cell_type": "code",
   "execution_count": 8,
   "id": "57f79f6a",
   "metadata": {},
   "outputs": [
    {
     "data": {
      "text/plain": [
       "87"
      ]
     },
     "execution_count": 8,
     "metadata": {},
     "output_type": "execute_result"
    }
   ],
   "source": [
    "0b1010111\n"
   ]
  },
  {
   "cell_type": "code",
   "execution_count": 9,
   "id": "66947094",
   "metadata": {},
   "outputs": [],
   "source": [
    "# 3 digits = 4 2 1 \n",
    "# 4 digits = 8 4 2 1 \n",
    "# 5 digits = 16 8 4 2 1 "
   ]
  },
  {
   "cell_type": "markdown",
   "id": "8fd36348",
   "metadata": {},
   "source": [
    "- 4 = 4 times 0 and 4 times 1 \n",
    "- 2 = 2 times 0 and 2 times 1 \n",
    "- 1 = 1 times 0 and 1 times 1 \n",
    "\n",
    "ON=1 \n",
    "Off=0"
   ]
  },
  {
   "cell_type": "markdown",
   "id": "a66d7a01",
   "metadata": {},
   "source": [
    "# example \n",
    "**********************************\n",
    "- 4    2    1        decimal output \n",
    "**********************************\n",
    "- 0    0    0       -   0\n",
    "- 0    0    1       -   1\n",
    "- 0    1    0       -   2\n",
    "- 0    1    1       -   3\n",
    "- 1    0    0       -   4\n",
    "- 1    0    1       -   5\n",
    "- 1    1    0       -   6\n",
    "- 1    1    1       -   7\n"
   ]
  },
  {
   "cell_type": "markdown",
   "id": "2bc46806",
   "metadata": {},
   "source": [
    "### Example 2 \n",
    "\n",
    "**********************************\n",
    "- 8   4    2    1        decimal output \n",
    "**********************************\n",
    "- 0   0    0    0          0\n",
    "- 0   0    0    1          1\n",
    "- 0   0    1    0          2\n",
    "- 0   0    1    1          3\n",
    "- 0   1    0    0          4\n",
    "- 0   1    0    1          5\n",
    "- 0   1    1    0          6\n",
    "- 0   1    1    1          7\n"
   ]
  },
  {
   "cell_type": "markdown",
   "id": "da821920",
   "metadata": {},
   "source": [
    "$Octa $"
   ]
  },
  {
   "cell_type": "markdown",
   "id": "87e1eb7b",
   "metadata": {},
   "source": [
    "- octa means 8 \n",
    "- so the base is also 8 \n",
    "- 0 1 2 3 4 5 6 7 8 9 \n",
    "- here will use only eight digit ( 0 1 2 3 4 5 6 7 )\n",
    "- representation is : 0o +combination of numbers\n",
    "    - eg: 0o123, 0o7564"
   ]
  },
  {
   "cell_type": "code",
   "execution_count": 10,
   "id": "bda9fb68",
   "metadata": {},
   "outputs": [
    {
     "data": {
      "text/plain": [
       "83"
      ]
     },
     "execution_count": 10,
     "metadata": {},
     "output_type": "execute_result"
    }
   ],
   "source": [
    "0o123\n"
   ]
  },
  {
   "cell_type": "code",
   "execution_count": 11,
   "id": "60458689",
   "metadata": {},
   "outputs": [
    {
     "data": {
      "text/plain": [
       "494"
      ]
     },
     "execution_count": 11,
     "metadata": {},
     "output_type": "execute_result"
    }
   ],
   "source": [
    "0O756"
   ]
  },
  {
   "cell_type": "markdown",
   "id": "c3bd5725",
   "metadata": {},
   "source": [
    "$Hexa$\n",
    "\n",
    "- hexa means 16 \n",
    "- so the base is also 16 \n",
    "- 0 1 2 3 4 5 6 7 8 9, A B C D E F \n",
    "- here will use only 16 digits ( 0 to 9 and A to F )\n",
    "- representation is : 0x<combination 0 to 9 and A to F>\n",
    "    - eg: 0xabc, 0X9DF"
   ]
  },
  {
   "cell_type": "code",
   "execution_count": 12,
   "id": "1fdfa217",
   "metadata": {},
   "outputs": [
    {
     "data": {
      "text/plain": [
       "2748"
      ]
     },
     "execution_count": 12,
     "metadata": {},
     "output_type": "execute_result"
    }
   ],
   "source": [
    "0xabc\n"
   ]
  },
  {
   "cell_type": "code",
   "execution_count": 13,
   "id": "e214a34d",
   "metadata": {},
   "outputs": [
    {
     "data": {
      "text/plain": [
       "2527"
      ]
     },
     "execution_count": 13,
     "metadata": {},
     "output_type": "execute_result"
    }
   ],
   "source": [
    "0X9DF"
   ]
  },
  {
   "cell_type": "markdown",
   "id": "18cce2e6",
   "metadata": {},
   "source": [
    "$FLOAT$\n"
   ]
  },
  {
   "cell_type": "code",
   "execution_count": 14,
   "id": "4af6b020",
   "metadata": {},
   "outputs": [
    {
     "data": {
      "text/plain": [
       "123.45"
      ]
     },
     "execution_count": 14,
     "metadata": {},
     "output_type": "execute_result"
    }
   ],
   "source": [
    "number=123.45\n",
    "number\n"
   ]
  },
  {
   "cell_type": "code",
   "execution_count": 15,
   "id": "2aad5cb0",
   "metadata": {},
   "outputs": [
    {
     "data": {
      "text/plain": [
       "float"
      ]
     },
     "execution_count": 15,
     "metadata": {},
     "output_type": "execute_result"
    }
   ],
   "source": [
    "type(number)"
   ]
  },
  {
   "cell_type": "markdown",
   "id": "364108b9",
   "metadata": {},
   "source": [
    "$ e- representation$ "
   ]
  },
  {
   "cell_type": "code",
   "execution_count": 16,
   "id": "8d02c7b1",
   "metadata": {},
   "outputs": [
    {
     "data": {
      "text/plain": [
       "10000.0"
      ]
     },
     "execution_count": 16,
     "metadata": {},
     "output_type": "execute_result"
    }
   ],
   "source": [
    "10e3      # 10 * 1000 = 10000 \n"
   ]
  },
  {
   "cell_type": "code",
   "execution_count": 17,
   "id": "cd0e68d9",
   "metadata": {},
   "outputs": [
    {
     "data": {
      "text/plain": [
       "10000.0"
      ]
     },
     "execution_count": 17,
     "metadata": {},
     "output_type": "execute_result"
    }
   ],
   "source": [
    "10e+3"
   ]
  },
  {
   "cell_type": "markdown",
   "id": "45e6b237",
   "metadata": {},
   "source": [
    "##### note :- 10e3 and 10e+3 both are same "
   ]
  },
  {
   "cell_type": "code",
   "execution_count": 19,
   "id": "9961e829",
   "metadata": {},
   "outputs": [
    {
     "data": {
      "text/plain": [
       "0.01"
      ]
     },
     "execution_count": 19,
     "metadata": {},
     "output_type": "execute_result"
    }
   ],
   "source": [
    "10e-3       # 10/1000 = 0.01 "
   ]
  },
  {
   "cell_type": "markdown",
   "id": "1131a141",
   "metadata": {},
   "source": [
    "$Strings$ "
   ]
  },
  {
   "cell_type": "code",
   "execution_count": 20,
   "id": "d8364db2",
   "metadata": {},
   "outputs": [],
   "source": [
    "name=\"python\" # write any thing in quotes \n"
   ]
  },
  {
   "cell_type": "code",
   "execution_count": 21,
   "id": "e13552c2",
   "metadata": {},
   "outputs": [
    {
     "data": {
      "text/plain": [
       "'python'"
      ]
     },
     "execution_count": 21,
     "metadata": {},
     "output_type": "execute_result"
    }
   ],
   "source": [
    "name"
   ]
  },
  {
   "cell_type": "code",
   "execution_count": 22,
   "id": "9c96f66d",
   "metadata": {},
   "outputs": [
    {
     "data": {
      "text/plain": [
       "str"
      ]
     },
     "execution_count": 22,
     "metadata": {},
     "output_type": "execute_result"
    }
   ],
   "source": [
    "type(name)"
   ]
  },
  {
   "cell_type": "code",
   "execution_count": 23,
   "id": "21ad954b",
   "metadata": {},
   "outputs": [
    {
     "data": {
      "text/plain": [
       "str"
      ]
     },
     "execution_count": 23,
     "metadata": {},
     "output_type": "execute_result"
    }
   ],
   "source": [
    "name1=\"100\"\n",
    "type(name1)"
   ]
  },
  {
   "cell_type": "code",
   "execution_count": 24,
   "id": "7545acbc",
   "metadata": {},
   "outputs": [],
   "source": [
    "name2='how are you'"
   ]
  },
  {
   "cell_type": "code",
   "execution_count": 25,
   "id": "f7e8db28",
   "metadata": {},
   "outputs": [
    {
     "data": {
      "text/plain": [
       "str"
      ]
     },
     "execution_count": 25,
     "metadata": {},
     "output_type": "execute_result"
    }
   ],
   "source": [
    "type(name2)"
   ]
  },
  {
   "cell_type": "code",
   "execution_count": 26,
   "id": "7f70d22c",
   "metadata": {},
   "outputs": [
    {
     "data": {
      "text/plain": [
       "'how are you'"
      ]
     },
     "execution_count": 26,
     "metadata": {},
     "output_type": "execute_result"
    }
   ],
   "source": [
    "name2"
   ]
  },
  {
   "cell_type": "code",
   "execution_count": 27,
   "id": "01b1231c",
   "metadata": {},
   "outputs": [
    {
     "ename": "SyntaxError",
     "evalue": "unterminated string literal (detected at line 1) (2725148467.py, line 1)",
     "output_type": "error",
     "traceback": [
      "\u001b[1;36m  Cell \u001b[1;32mIn[27], line 1\u001b[1;36m\u001b[0m\n\u001b[1;33m    name3=\"hi\u001b[0m\n\u001b[1;37m          ^\u001b[0m\n\u001b[1;31mSyntaxError\u001b[0m\u001b[1;31m:\u001b[0m unterminated string literal (detected at line 1)\n"
     ]
    }
   ],
   "source": [
    "name3=\"hi \n",
    "         how are you\"\n",
    "name3\n"
   ]
  },
  {
   "cell_type": "code",
   "execution_count": 28,
   "id": "9d941e30",
   "metadata": {},
   "outputs": [
    {
     "ename": "SyntaxError",
     "evalue": "unterminated string literal (detected at line 1) (3842019986.py, line 1)",
     "output_type": "error",
     "traceback": [
      "\u001b[1;36m  Cell \u001b[1;32mIn[28], line 1\u001b[1;36m\u001b[0m\n\u001b[1;33m    name4='hi\u001b[0m\n\u001b[1;37m          ^\u001b[0m\n\u001b[1;31mSyntaxError\u001b[0m\u001b[1;31m:\u001b[0m unterminated string literal (detected at line 1)\n"
     ]
    }
   ],
   "source": [
    "name4='hi \n",
    "how are you'\n",
    "name4"
   ]
  },
  {
   "cell_type": "code",
   "execution_count": 29,
   "id": "0d20e1df",
   "metadata": {},
   "outputs": [
    {
     "data": {
      "text/plain": [
       "'\"hi\\n           how are you'"
      ]
     },
     "execution_count": 29,
     "metadata": {},
     "output_type": "execute_result"
    }
   ],
   "source": [
    "# whenever you want to write multi lines in a single string - use triple quotes \n",
    "\n",
    "name5= \"\"\"\"hi\n",
    "           how are you\"\"\"\n",
    "name5"
   ]
  },
  {
   "cell_type": "code",
   "execution_count": 2,
   "id": "84d1ede3",
   "metadata": {},
   "outputs": [],
   "source": [
    "# Doc string is very important ----- tripple quotes \n",
    "# jupyter notebook : \n"
   ]
  },
  {
   "cell_type": "code",
   "execution_count": null,
   "id": "d5aa51cc",
   "metadata": {},
   "outputs": [],
   "source": []
  }
 ],
 "metadata": {
  "kernelspec": {
   "display_name": "Python 3 (ipykernel)",
   "language": "python",
   "name": "python3"
  },
  "language_info": {
   "codemirror_mode": {
    "name": "ipython",
    "version": 3
   },
   "file_extension": ".py",
   "mimetype": "text/x-python",
   "name": "python",
   "nbconvert_exporter": "python",
   "pygments_lexer": "ipython3",
   "version": "3.11.5"
  }
 },
 "nbformat": 4,
 "nbformat_minor": 5
}
