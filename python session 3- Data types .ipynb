{
 "cells": [
  {
   "cell_type": "markdown",
   "id": "4464fb78",
   "metadata": {},
   "source": [
    "# Data Types "
   ]
  },
  {
   "cell_type": "markdown",
   "id": "733ffef3",
   "metadata": {},
   "source": [
    "Integer  <br>    int "
   ]
  },
  {
   "cell_type": "markdown",
   "id": "39f21675",
   "metadata": {},
   "source": [
    "# 4. ***** Boolean******"
   ]
  },
  {
   "cell_type": "code",
   "execution_count": null,
   "id": "ef2e2afe",
   "metadata": {},
   "outputs": [],
   "source": [
    "# whenever if you ask any question to the computer \n",
    "# what its reply ? True or False \n",
    "# True=1 \n",
    "# False=0\n",
    "\n",
    "True    # keyword \n",
    "False   # keyword \n"
   ]
  },
  {
   "cell_type": "code",
   "execution_count": 1,
   "id": "3f7962af",
   "metadata": {},
   "outputs": [
    {
     "data": {
      "text/plain": [
       "False"
      ]
     },
     "execution_count": 1,
     "metadata": {},
     "output_type": "execute_result"
    }
   ],
   "source": [
    "value=False     # we are assigning False in a variable value \n",
    "value"
   ]
  },
  {
   "cell_type": "code",
   "execution_count": 2,
   "id": "5564568d",
   "metadata": {},
   "outputs": [
    {
     "data": {
      "text/plain": [
       "bool"
      ]
     },
     "execution_count": 2,
     "metadata": {},
     "output_type": "execute_result"
    }
   ],
   "source": [
    "type(value)"
   ]
  },
  {
   "cell_type": "code",
   "execution_count": 3,
   "id": "93d0b38f",
   "metadata": {},
   "outputs": [
    {
     "data": {
      "text/plain": [
       "bool"
      ]
     },
     "execution_count": 3,
     "metadata": {},
     "output_type": "execute_result"
    }
   ],
   "source": [
    "value1=True\n",
    "type(value1)"
   ]
  },
  {
   "cell_type": "code",
   "execution_count": 4,
   "id": "67714d2e",
   "metadata": {},
   "outputs": [
    {
     "ename": "NameError",
     "evalue": "name 'true' is not defined",
     "output_type": "error",
     "traceback": [
      "\u001b[1;31m---------------------------------------------------------------------------\u001b[0m",
      "\u001b[1;31mNameError\u001b[0m                                 Traceback (most recent call last)",
      "Cell \u001b[1;32mIn[4], line 2\u001b[0m\n\u001b[0;32m      1\u001b[0m name1\u001b[38;5;241m=\u001b[39m\u001b[38;5;28;01mTrue\u001b[39;00m                 \u001b[38;5;66;03m# Boolean\u001b[39;00m\n\u001b[1;32m----> 2\u001b[0m name2\u001b[38;5;241m=\u001b[39mtrue                 \u001b[38;5;66;03m# error \u001b[39;00m\n\u001b[0;32m      3\u001b[0m name3\u001b[38;5;241m=\u001b[39m\u001b[38;5;124m\"\u001b[39m\u001b[38;5;124mTrue\u001b[39m\u001b[38;5;124m\"\u001b[39m\n",
      "\u001b[1;31mNameError\u001b[0m: name 'true' is not defined"
     ]
    }
   ],
   "source": [
    "name1=True                 # Boolean\n",
    "name2=true                 # error ( because both are variable)\n",
    "name3=\"True\"               # str \n"
   ]
  },
  {
   "cell_type": "code",
   "execution_count": 5,
   "id": "9ad18d2d",
   "metadata": {},
   "outputs": [],
   "source": [
    "# name2=true is giving error because we have not defined the variable true before \n"
   ]
  },
  {
   "cell_type": "code",
   "execution_count": 7,
   "id": "622df887",
   "metadata": {},
   "outputs": [
    {
     "data": {
      "text/plain": [
       "100"
      ]
     },
     "execution_count": 7,
     "metadata": {},
     "output_type": "execute_result"
    }
   ],
   "source": [
    "true=100  # 100 is saving in a variable true \n",
    "name2=true  # true is saving in a variable name2\n",
    "name2           # so name2 is 100"
   ]
  },
  {
   "cell_type": "code",
   "execution_count": 8,
   "id": "c4176670",
   "metadata": {},
   "outputs": [
    {
     "data": {
      "text/plain": [
       "500"
      ]
     },
     "execution_count": 8,
     "metadata": {},
     "output_type": "execute_result"
    }
   ],
   "source": [
    "a=100   # 100 saved in a \n",
    "b=200   # 200 saved in b\n",
    "a=b     # b saved in a , a=200\n",
    "b=a     # a saved in b , b=200\n",
    "a= 500  # 500 saved in a \n",
    "b=a     # a saved in b , b= 500 \n",
    "b= 900  # 900 saved in b \n",
    "a       # latest value of a=500\n"
   ]
  },
  {
   "cell_type": "code",
   "execution_count": 10,
   "id": "fdcf1ba7",
   "metadata": {},
   "outputs": [
    {
     "data": {
      "text/plain": [
       "900"
      ]
     },
     "execution_count": 10,
     "metadata": {},
     "output_type": "execute_result"
    }
   ],
   "source": [
    "a=100   # 100 saved in a\n",
    "a\n",
    "b=200   # 200 saved in b\n",
    "b\n",
    "a=b     # b saved in a , a=200\n",
    "a\n",
    "b=a     # a saved in b , b=200\n",
    "b\n",
    "a= 500  # 500 saved in a \n",
    "b=a     # a saved in b , b= 500 \n",
    "b\n",
    "b= 900  # 900 saved in b \n",
    "a       # latest value of a=500\n",
    "b\n"
   ]
  },
  {
   "cell_type": "markdown",
   "id": "08a3a3d5",
   "metadata": {},
   "source": [
    "# 5. ***** Complex ************"
   ]
  },
  {
   "cell_type": "markdown",
   "id": "1b945e47",
   "metadata": {},
   "source": [
    "$Complex-Conjugate$"
   ]
  },
  {
   "cell_type": "markdown",
   "id": "83cd2f02",
   "metadata": {},
   "source": [
    "- a+ib           or a+jb \n",
    "- where a = real number \n",
    "- b= imaginary number \n",
    "- i= sqrt(-1)"
   ]
  },
  {
   "cell_type": "code",
   "execution_count": 11,
   "id": "adeaa59a",
   "metadata": {},
   "outputs": [
    {
     "data": {
      "text/plain": [
       "(3+5j)"
      ]
     },
     "execution_count": 11,
     "metadata": {},
     "output_type": "execute_result"
    }
   ],
   "source": [
    "number=3+5j\n",
    "number"
   ]
  },
  {
   "cell_type": "code",
   "execution_count": 12,
   "id": "71266cb0",
   "metadata": {},
   "outputs": [
    {
     "data": {
      "text/plain": [
       "complex"
      ]
     },
     "execution_count": 12,
     "metadata": {},
     "output_type": "execute_result"
    }
   ],
   "source": [
    "type(number)"
   ]
  },
  {
   "cell_type": "code",
   "execution_count": 14,
   "id": "ade4b361",
   "metadata": {},
   "outputs": [
    {
     "name": "stdout",
     "output_type": "stream",
     "text": [
      "(3-5j)\n"
     ]
    },
    {
     "data": {
      "text/plain": [
       "complex"
      ]
     },
     "execution_count": 14,
     "metadata": {},
     "output_type": "execute_result"
    }
   ],
   "source": [
    "number1=3-5j\n",
    "print(number1)\n",
    "type(number1)"
   ]
  },
  {
   "cell_type": "code",
   "execution_count": 15,
   "id": "347c7d27",
   "metadata": {},
   "outputs": [
    {
     "data": {
      "text/plain": [
       "(3+5j)"
      ]
     },
     "execution_count": 15,
     "metadata": {},
     "output_type": "execute_result"
    }
   ],
   "source": [
    "# if i want to retrive only real value separately \n",
    "3+5j\n",
    "# 3 is the real value \n",
    "# 5 is the imaginary value \n"
   ]
  },
  {
   "cell_type": "code",
   "execution_count": 16,
   "id": "9d22c37e",
   "metadata": {},
   "outputs": [
    {
     "data": {
      "text/plain": [
       "(3+5j)"
      ]
     },
     "execution_count": 16,
     "metadata": {},
     "output_type": "execute_result"
    }
   ],
   "source": [
    "number=3+5j\n",
    "number\n"
   ]
  },
  {
   "cell_type": "code",
   "execution_count": 17,
   "id": "94d59790",
   "metadata": {},
   "outputs": [
    {
     "data": {
      "text/plain": [
       "['__abs__',\n",
       " '__add__',\n",
       " '__bool__',\n",
       " '__class__',\n",
       " '__complex__',\n",
       " '__delattr__',\n",
       " '__dir__',\n",
       " '__doc__',\n",
       " '__eq__',\n",
       " '__format__',\n",
       " '__ge__',\n",
       " '__getattribute__',\n",
       " '__getnewargs__',\n",
       " '__getstate__',\n",
       " '__gt__',\n",
       " '__hash__',\n",
       " '__init__',\n",
       " '__init_subclass__',\n",
       " '__le__',\n",
       " '__lt__',\n",
       " '__mul__',\n",
       " '__ne__',\n",
       " '__neg__',\n",
       " '__new__',\n",
       " '__pos__',\n",
       " '__pow__',\n",
       " '__radd__',\n",
       " '__reduce__',\n",
       " '__reduce_ex__',\n",
       " '__repr__',\n",
       " '__rmul__',\n",
       " '__rpow__',\n",
       " '__rsub__',\n",
       " '__rtruediv__',\n",
       " '__setattr__',\n",
       " '__sizeof__',\n",
       " '__str__',\n",
       " '__sub__',\n",
       " '__subclasshook__',\n",
       " '__truediv__',\n",
       " 'conjugate',\n",
       " 'imag',\n",
       " 'real']"
      ]
     },
     "execution_count": 17,
     "metadata": {},
     "output_type": "execute_result"
    }
   ],
   "source": [
    "dir(number)"
   ]
  },
  {
   "cell_type": "code",
   "execution_count": 18,
   "id": "abbe3c21",
   "metadata": {},
   "outputs": [
    {
     "data": {
      "text/plain": [
       "3.0"
      ]
     },
     "execution_count": 18,
     "metadata": {},
     "output_type": "execute_result"
    }
   ],
   "source": [
    "number.real   # <packagename>.<method>\n"
   ]
  },
  {
   "cell_type": "code",
   "execution_count": 22,
   "id": "025e44ec",
   "metadata": {},
   "outputs": [
    {
     "data": {
      "text/plain": [
       "(3-5j)"
      ]
     },
     "execution_count": 22,
     "metadata": {},
     "output_type": "execute_result"
    }
   ],
   "source": [
    "number.conjugate()                # we have to call function by giving the bracket ()\n",
    "\n",
    "# conjugate   means reverese \n",
    "# + becomes - \n",
    "# - becomes +"
   ]
  },
  {
   "cell_type": "code",
   "execution_count": 21,
   "id": "a288dfc6",
   "metadata": {},
   "outputs": [
    {
     "data": {
      "text/plain": [
       "5.0"
      ]
     },
     "execution_count": 21,
     "metadata": {},
     "output_type": "execute_result"
    }
   ],
   "source": [
    "number.imag"
   ]
  },
  {
   "cell_type": "code",
   "execution_count": 25,
   "id": "5c99bb28",
   "metadata": {},
   "outputs": [
    {
     "name": "stdout",
     "output_type": "stream",
     "text": [
      "(3-5j)\n"
     ]
    },
    {
     "data": {
      "text/plain": [
       "(3+5j)"
      ]
     },
     "execution_count": 25,
     "metadata": {},
     "output_type": "execute_result"
    }
   ],
   "source": [
    "number1=3-5j\n",
    "print(number1)\n",
    "number1.real\n",
    "number1.imag\n",
    "number1.conjugate()"
   ]
  },
  {
   "cell_type": "code",
   "execution_count": 26,
   "id": "628f01f8",
   "metadata": {},
   "outputs": [
    {
     "data": {
      "text/plain": [
       "3.0"
      ]
     },
     "execution_count": 26,
     "metadata": {},
     "output_type": "execute_result"
    }
   ],
   "source": [
    "number1.real"
   ]
  },
  {
   "cell_type": "code",
   "execution_count": 27,
   "id": "958a018b",
   "metadata": {},
   "outputs": [
    {
     "data": {
      "text/plain": [
       "-5.0"
      ]
     },
     "execution_count": 27,
     "metadata": {},
     "output_type": "execute_result"
    }
   ],
   "source": [
    "number1.imag"
   ]
  },
  {
   "cell_type": "code",
   "execution_count": 28,
   "id": "5b3490d8",
   "metadata": {},
   "outputs": [
    {
     "data": {
      "text/plain": [
       "(3+5j)"
      ]
     },
     "execution_count": 28,
     "metadata": {},
     "output_type": "execute_result"
    }
   ],
   "source": [
    "number1.conjugate()"
   ]
  },
  {
   "cell_type": "code",
   "execution_count": 30,
   "id": "0f3a2a51",
   "metadata": {},
   "outputs": [
    {
     "data": {
      "text/plain": [
       "(4+10j)"
      ]
     },
     "execution_count": 30,
     "metadata": {},
     "output_type": "execute_result"
    }
   ],
   "source": [
    "complex(4,10)          # shift+tab\n",
    "#real-4\n",
    "#imag=10\n",
    "#4+10j \n"
   ]
  },
  {
   "cell_type": "code",
   "execution_count": 31,
   "id": "5df9f4ca",
   "metadata": {},
   "outputs": [
    {
     "data": {
      "text/plain": [
       "(4-10j)"
      ]
     },
     "execution_count": 31,
     "metadata": {},
     "output_type": "execute_result"
    }
   ],
   "source": [
    "complex(4,-10)\n",
    "\n",
    "# inside bracket what you are seeing \n",
    "# parameter/arguments "
   ]
  },
  {
   "cell_type": "code",
   "execution_count": 32,
   "id": "1724a959",
   "metadata": {},
   "outputs": [
    {
     "data": {
      "text/plain": [
       "0j"
      ]
     },
     "execution_count": 32,
     "metadata": {},
     "output_type": "execute_result"
    }
   ],
   "source": [
    "complex()   # if we dont provide any value inside "
   ]
  },
  {
   "cell_type": "markdown",
   "id": "9b5e17cb",
   "metadata": {},
   "source": [
    "- whenever if you see any brackets (), that is called function \n",
    "- another name of function is called method \n",
    "- inside bracket what are you seeing is called parameters \n",
    "- another name for parameters is arguments \n"
   ]
  },
  {
   "cell_type": "code",
   "execution_count": 34,
   "id": "8f4ea5ee",
   "metadata": {},
   "outputs": [],
   "source": [
    "import random"
   ]
  },
  {
   "cell_type": "code",
   "execution_count": 36,
   "id": "34505ed6",
   "metadata": {},
   "outputs": [
    {
     "data": {
      "text/plain": [
       "<bound method Random.randint of <random.Random object at 0x00000291DA06E970>>"
      ]
     },
     "execution_count": 36,
     "metadata": {},
     "output_type": "execute_result"
    }
   ],
   "source": [
    "random.randint"
   ]
  },
  {
   "cell_type": "code",
   "execution_count": 37,
   "id": "b25a0ea4",
   "metadata": {},
   "outputs": [
    {
     "ename": "TypeError",
     "evalue": "Random.randint() missing 2 required positional arguments: 'a' and 'b'",
     "output_type": "error",
     "traceback": [
      "\u001b[1;31m---------------------------------------------------------------------------\u001b[0m",
      "\u001b[1;31mTypeError\u001b[0m                                 Traceback (most recent call last)",
      "Cell \u001b[1;32mIn[37], line 1\u001b[0m\n\u001b[1;32m----> 1\u001b[0m random\u001b[38;5;241m.\u001b[39mrandint()\n",
      "\u001b[1;31mTypeError\u001b[0m: Random.randint() missing 2 required positional arguments: 'a' and 'b'"
     ]
    }
   ],
   "source": [
    "random.randint()"
   ]
  },
  {
   "cell_type": "code",
   "execution_count": 38,
   "id": "c46c9f7e",
   "metadata": {},
   "outputs": [
    {
     "data": {
      "text/plain": [
       "1"
      ]
     },
     "execution_count": 38,
     "metadata": {},
     "output_type": "execute_result"
    }
   ],
   "source": [
    "random.randint(1,6)"
   ]
  },
  {
   "cell_type": "code",
   "execution_count": 39,
   "id": "225f41da",
   "metadata": {},
   "outputs": [
    {
     "data": {
      "text/plain": [
       "4"
      ]
     },
     "execution_count": 39,
     "metadata": {},
     "output_type": "execute_result"
    }
   ],
   "source": [
    "random.randint(1,6)"
   ]
  },
  {
   "cell_type": "code",
   "execution_count": 40,
   "id": "2e46f32c",
   "metadata": {},
   "outputs": [
    {
     "data": {
      "text/plain": [
       "0j"
      ]
     },
     "execution_count": 40,
     "metadata": {},
     "output_type": "execute_result"
    }
   ],
   "source": [
    "complex()\n",
    "\n",
    "# if we dont provide anything inside bracket \n",
    "# i will use real value as 0\n",
    "# imaginary value also 0 \n",
    "# 0+0j      ===========> 0j "
   ]
  },
  {
   "cell_type": "code",
   "execution_count": 41,
   "id": "b9b1f53d",
   "metadata": {},
   "outputs": [
    {
     "ename": "SyntaxError",
     "evalue": "unmatched ')' (2820224422.py, line 1)",
     "output_type": "error",
     "traceback": [
      "\u001b[1;36m  Cell \u001b[1;32mIn[41], line 1\u001b[1;36m\u001b[0m\n\u001b[1;33m    A) random.randint()               # error\u001b[0m\n\u001b[1;37m     ^\u001b[0m\n\u001b[1;31mSyntaxError\u001b[0m\u001b[1;31m:\u001b[0m unmatched ')'\n"
     ]
    }
   ],
   "source": [
    "A) random.randint()               # error \n",
    "B) math.sin()                     # error \n",
    "c) complex()                      # no error "
   ]
  },
  {
   "cell_type": "code",
   "execution_count": 46,
   "id": "e670618e",
   "metadata": {},
   "outputs": [
    {
     "ename": "SyntaxError",
     "evalue": "invalid syntax (628195204.py, line 3)",
     "output_type": "error",
     "traceback": [
      "\u001b[1;36m  Cell \u001b[1;32mIn[46], line 3\u001b[1;36m\u001b[0m\n\u001b[1;33m    math.sin(x, /)\u001b[0m\n\u001b[1;37m                ^\u001b[0m\n\u001b[1;31mSyntaxError\u001b[0m\u001b[1;31m:\u001b[0m invalid syntax\n"
     ]
    }
   ],
   "source": [
    "random.randint(a, b)\n",
    "complex(real=0, imag=0)\n",
    "math.sin(x, /)\n"
   ]
  },
  {
   "cell_type": "code",
   "execution_count": 43,
   "id": "a570c9f6",
   "metadata": {},
   "outputs": [
    {
     "ename": "NameError",
     "evalue": "name 'math' is not defined",
     "output_type": "error",
     "traceback": [
      "\u001b[1;31m---------------------------------------------------------------------------\u001b[0m",
      "\u001b[1;31mNameError\u001b[0m                                 Traceback (most recent call last)",
      "Cell \u001b[1;32mIn[43], line 1\u001b[0m\n\u001b[1;32m----> 1\u001b[0m math\u001b[38;5;241m.\u001b[39msin(\u001b[38;5;241m90\u001b[39m)\n",
      "\u001b[1;31mNameError\u001b[0m: name 'math' is not defined"
     ]
    }
   ],
   "source": [
    "math.sin(90)"
   ]
  },
  {
   "cell_type": "code",
   "execution_count": 44,
   "id": "a5d0e801",
   "metadata": {},
   "outputs": [],
   "source": [
    "import math "
   ]
  },
  {
   "cell_type": "code",
   "execution_count": 45,
   "id": "a7619a44",
   "metadata": {},
   "outputs": [
    {
     "data": {
      "text/plain": [
       "0.8939966636005579"
      ]
     },
     "execution_count": 45,
     "metadata": {},
     "output_type": "execute_result"
    }
   ],
   "source": [
    "math.sin(90)"
   ]
  },
  {
   "cell_type": "code",
   "execution_count": 47,
   "id": "e32e3df6",
   "metadata": {},
   "outputs": [
    {
     "ename": "TypeError",
     "evalue": "Random.randint() missing 2 required positional arguments: 'a' and 'b'",
     "output_type": "error",
     "traceback": [
      "\u001b[1;31m---------------------------------------------------------------------------\u001b[0m",
      "\u001b[1;31mTypeError\u001b[0m                                 Traceback (most recent call last)",
      "Cell \u001b[1;32mIn[47], line 1\u001b[0m\n\u001b[1;32m----> 1\u001b[0m random\u001b[38;5;241m.\u001b[39mrandint()\n",
      "\u001b[1;31mTypeError\u001b[0m: Random.randint() missing 2 required positional arguments: 'a' and 'b'"
     ]
    }
   ],
   "source": [
    "random.randint() "
   ]
  },
  {
   "cell_type": "code",
   "execution_count": 48,
   "id": "a39f76d5",
   "metadata": {},
   "outputs": [
    {
     "ename": "TypeError",
     "evalue": "math.sin() takes exactly one argument (0 given)",
     "output_type": "error",
     "traceback": [
      "\u001b[1;31m---------------------------------------------------------------------------\u001b[0m",
      "\u001b[1;31mTypeError\u001b[0m                                 Traceback (most recent call last)",
      "Cell \u001b[1;32mIn[48], line 1\u001b[0m\n\u001b[1;32m----> 1\u001b[0m math\u001b[38;5;241m.\u001b[39msin()\n",
      "\u001b[1;31mTypeError\u001b[0m: math.sin() takes exactly one argument (0 given)"
     ]
    }
   ],
   "source": [
    "math.sin()"
   ]
  },
  {
   "cell_type": "code",
   "execution_count": 49,
   "id": "803ef372",
   "metadata": {},
   "outputs": [
    {
     "data": {
      "text/plain": [
       "0j"
      ]
     },
     "execution_count": 49,
     "metadata": {},
     "output_type": "execute_result"
    }
   ],
   "source": [
    "complex()"
   ]
  },
  {
   "cell_type": "code",
   "execution_count": null,
   "id": "7215d420",
   "metadata": {},
   "outputs": [],
   "source": []
  }
 ],
 "metadata": {
  "kernelspec": {
   "display_name": "Python 3 (ipykernel)",
   "language": "python",
   "name": "python3"
  },
  "language_info": {
   "codemirror_mode": {
    "name": "ipython",
    "version": 3
   },
   "file_extension": ".py",
   "mimetype": "text/x-python",
   "name": "python",
   "nbconvert_exporter": "python",
   "pygments_lexer": "ipython3",
   "version": "3.11.5"
  }
 },
 "nbformat": 4,
 "nbformat_minor": 5
}
