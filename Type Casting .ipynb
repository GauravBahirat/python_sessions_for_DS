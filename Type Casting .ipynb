{
 "cells": [
  {
   "cell_type": "markdown",
   "id": "343a2f9b",
   "metadata": {},
   "source": [
    "# Type Casting :"
   ]
  },
  {
   "cell_type": "markdown",
   "id": "370bf3b5",
   "metadata": {},
   "source": [
    "- change data type to another data type\n",
    "    - int -------> float\n",
    "    - int -------> string\n",
    "    - int -------> boolean\n",
    "    - int -------> complex "
   ]
  },
  {
   "cell_type": "markdown",
   "id": "406829e4",
   "metadata": {},
   "source": [
    "$1. Integer$"
   ]
  },
  {
   "cell_type": "code",
   "execution_count": 2,
   "id": "ef6ecb91",
   "metadata": {},
   "outputs": [
    {
     "data": {
      "text/plain": [
       "100"
      ]
     },
     "execution_count": 2,
     "metadata": {},
     "output_type": "execute_result"
    }
   ],
   "source": [
    "number1=100\n",
    "number1\n"
   ]
  },
  {
   "cell_type": "code",
   "execution_count": 3,
   "id": "6b26a353",
   "metadata": {},
   "outputs": [
    {
     "data": {
      "text/plain": [
       "int"
      ]
     },
     "execution_count": 3,
     "metadata": {},
     "output_type": "execute_result"
    }
   ],
   "source": [
    "type(number1)"
   ]
  },
  {
   "cell_type": "code",
   "execution_count": 5,
   "id": "57216a29",
   "metadata": {},
   "outputs": [],
   "source": [
    "# case1:- int        ==============> float \n",
    "float_number=float(number1)         # number1 to float type 100 "
   ]
  },
  {
   "cell_type": "code",
   "execution_count": 6,
   "id": "b6dc8cb1",
   "metadata": {},
   "outputs": [
    {
     "data": {
      "text/plain": [
       "100.0"
      ]
     },
     "execution_count": 6,
     "metadata": {},
     "output_type": "execute_result"
    }
   ],
   "source": [
    "float_number"
   ]
  },
  {
   "cell_type": "code",
   "execution_count": 7,
   "id": "701ded5a",
   "metadata": {},
   "outputs": [
    {
     "data": {
      "text/plain": [
       "float"
      ]
     },
     "execution_count": 7,
     "metadata": {},
     "output_type": "execute_result"
    }
   ],
   "source": [
    "type(float_number)"
   ]
  },
  {
   "cell_type": "code",
   "execution_count": 8,
   "id": "81cf5d6a",
   "metadata": {},
   "outputs": [],
   "source": [
    "# case2: int =======> string \n",
    "string_number=str(number1)"
   ]
  },
  {
   "cell_type": "code",
   "execution_count": 9,
   "id": "b3f07233",
   "metadata": {},
   "outputs": [
    {
     "data": {
      "text/plain": [
       "'100'"
      ]
     },
     "execution_count": 9,
     "metadata": {},
     "output_type": "execute_result"
    }
   ],
   "source": [
    "string_number"
   ]
  },
  {
   "cell_type": "code",
   "execution_count": 10,
   "id": "b158a02c",
   "metadata": {},
   "outputs": [
    {
     "data": {
      "text/plain": [
       "str"
      ]
     },
     "execution_count": 10,
     "metadata": {},
     "output_type": "execute_result"
    }
   ],
   "source": [
    "type(string_number)"
   ]
  },
  {
   "cell_type": "code",
   "execution_count": 11,
   "id": "48be8e42",
   "metadata": {},
   "outputs": [
    {
     "data": {
      "text/plain": [
       "True"
      ]
     },
     "execution_count": 11,
     "metadata": {},
     "output_type": "execute_result"
    }
   ],
   "source": [
    "#case3: int===============> boolean \n",
    "\n",
    "boolean_number=bool(number1) \n",
    "boolean_number"
   ]
  },
  {
   "cell_type": "code",
   "execution_count": 12,
   "id": "93231d89",
   "metadata": {},
   "outputs": [
    {
     "data": {
      "text/plain": [
       "bool"
      ]
     },
     "execution_count": 12,
     "metadata": {},
     "output_type": "execute_result"
    }
   ],
   "source": [
    "type(boolean_number)"
   ]
  },
  {
   "cell_type": "code",
   "execution_count": 13,
   "id": "f59a3794",
   "metadata": {},
   "outputs": [
    {
     "data": {
      "text/plain": [
       "False"
      ]
     },
     "execution_count": 13,
     "metadata": {},
     "output_type": "execute_result"
    }
   ],
   "source": [
    "bool(0)                  # when it will provide false \n"
   ]
  },
  {
   "cell_type": "markdown",
   "id": "7b2df2be",
   "metadata": {},
   "source": [
    "$Note$\n",
    "\n",
    "- other than zero, everything is True \n",
    "- bool(0) only False "
   ]
  },
  {
   "cell_type": "code",
   "execution_count": 15,
   "id": "a218fac4",
   "metadata": {},
   "outputs": [
    {
     "data": {
      "text/plain": [
       "(100+0j)"
      ]
     },
     "execution_count": 15,
     "metadata": {},
     "output_type": "execute_result"
    }
   ],
   "source": [
    "# case4: int to complex \n",
    "\n",
    "complex_number=complex(number1)\n",
    "complex_number"
   ]
  },
  {
   "cell_type": "code",
   "execution_count": 17,
   "id": "ec02e378",
   "metadata": {},
   "outputs": [],
   "source": [
    "number1=100\n",
    "float_number=float(number1)      # float(100)     = 100.0\n",
    "string_number=str(number1)       # str(100)       = '100'\n",
    "boolean_number=bool(number1)     # bool(100)      = True \n",
    "complex_number=complex(number1)  # complex(100)   = 100+oj"
   ]
  },
  {
   "cell_type": "markdown",
   "id": "48111e44",
   "metadata": {},
   "source": [
    "## 2. Convert float to all other types "
   ]
  },
  {
   "cell_type": "code",
   "execution_count": 18,
   "id": "0e4d83c3",
   "metadata": {},
   "outputs": [
    {
     "name": "stdout",
     "output_type": "stream",
     "text": [
      "100\n",
      "100.5\n",
      "True\n"
     ]
    },
    {
     "data": {
      "text/plain": [
       "(100.5+0j)"
      ]
     },
     "execution_count": 18,
     "metadata": {},
     "output_type": "execute_result"
    }
   ],
   "source": [
    "number2=100.5\n",
    "int_number=int(number2)          # int(100)     = 100\n",
    "print(int_number)\n",
    "string_number=str(number2)       # str(100)       = '100.5'\n",
    "print(string_number)\n",
    "boolean_number=bool(number2)     # bool(100)      = True\n",
    "print(boolean_number)\n",
    "complex_number=complex(number2)  # complex(100)   = 100.5+oj\n",
    "complex_number"
   ]
  },
  {
   "cell_type": "markdown",
   "id": "c3ef09c6",
   "metadata": {},
   "source": [
    "## 3. Convert string to all other types "
   ]
  },
  {
   "cell_type": "markdown",
   "id": "74d57547",
   "metadata": {},
   "source": [
    "##### case-1"
   ]
  },
  {
   "cell_type": "code",
   "execution_count": null,
   "id": "220bc342",
   "metadata": {},
   "outputs": [],
   "source": [
    "string_value1='apple'\n",
    "int(string_value1)   # error \n",
    "float(string_value1) # error\n",
    "bool(string_value1)  # True \n",
    "complex(string_value1) # error "
   ]
  },
  {
   "cell_type": "code",
   "execution_count": 19,
   "id": "17c8dbd9",
   "metadata": {},
   "outputs": [
    {
     "ename": "ValueError",
     "evalue": "invalid literal for int() with base 10: 'apple'",
     "output_type": "error",
     "traceback": [
      "\u001b[1;31m---------------------------------------------------------------------------\u001b[0m",
      "\u001b[1;31mValueError\u001b[0m                                Traceback (most recent call last)",
      "Cell \u001b[1;32mIn[19], line 2\u001b[0m\n\u001b[0;32m      1\u001b[0m string_value1\u001b[38;5;241m=\u001b[39m\u001b[38;5;124m'\u001b[39m\u001b[38;5;124mapple\u001b[39m\u001b[38;5;124m'\u001b[39m\n\u001b[1;32m----> 2\u001b[0m \u001b[38;5;28mint\u001b[39m(string_value1)\n",
      "\u001b[1;31mValueError\u001b[0m: invalid literal for int() with base 10: 'apple'"
     ]
    }
   ],
   "source": [
    "string_value1='apple'\n",
    "int(string_value1)\n"
   ]
  },
  {
   "cell_type": "code",
   "execution_count": 20,
   "id": "303f7207",
   "metadata": {},
   "outputs": [
    {
     "ename": "ValueError",
     "evalue": "could not convert string to float: 'apple'",
     "output_type": "error",
     "traceback": [
      "\u001b[1;31m---------------------------------------------------------------------------\u001b[0m",
      "\u001b[1;31mValueError\u001b[0m                                Traceback (most recent call last)",
      "Cell \u001b[1;32mIn[20], line 1\u001b[0m\n\u001b[1;32m----> 1\u001b[0m \u001b[38;5;28mfloat\u001b[39m(string_value1)\n",
      "\u001b[1;31mValueError\u001b[0m: could not convert string to float: 'apple'"
     ]
    }
   ],
   "source": [
    "float(string_value1)"
   ]
  },
  {
   "cell_type": "code",
   "execution_count": 21,
   "id": "6884970a",
   "metadata": {},
   "outputs": [
    {
     "data": {
      "text/plain": [
       "True"
      ]
     },
     "execution_count": 21,
     "metadata": {},
     "output_type": "execute_result"
    }
   ],
   "source": [
    "bool(string_value1)"
   ]
  },
  {
   "cell_type": "code",
   "execution_count": 22,
   "id": "1aa87842",
   "metadata": {},
   "outputs": [
    {
     "data": {
      "text/plain": [
       "False"
      ]
     },
     "execution_count": 22,
     "metadata": {},
     "output_type": "execute_result"
    }
   ],
   "source": [
    "string_value=''     #empty string \n",
    "bool(string_value)"
   ]
  },
  {
   "cell_type": "markdown",
   "id": "1698a3c4",
   "metadata": {},
   "source": [
    "##### Note: \n",
    "- Empty string value in boolean is 0 "
   ]
  },
  {
   "cell_type": "code",
   "execution_count": 23,
   "id": "4444acdb",
   "metadata": {},
   "outputs": [
    {
     "ename": "ValueError",
     "evalue": "complex() arg is a malformed string",
     "output_type": "error",
     "traceback": [
      "\u001b[1;31m---------------------------------------------------------------------------\u001b[0m",
      "\u001b[1;31mValueError\u001b[0m                                Traceback (most recent call last)",
      "Cell \u001b[1;32mIn[23], line 1\u001b[0m\n\u001b[1;32m----> 1\u001b[0m \u001b[38;5;28mcomplex\u001b[39m(string_value1)\n",
      "\u001b[1;31mValueError\u001b[0m: complex() arg is a malformed string"
     ]
    }
   ],
   "source": [
    "complex(string_value1)"
   ]
  },
  {
   "cell_type": "markdown",
   "id": "864d2194",
   "metadata": {},
   "source": [
    "#### Case-2 "
   ]
  },
  {
   "cell_type": "code",
   "execution_count": null,
   "id": "d4c2cff7",
   "metadata": {},
   "outputs": [],
   "source": [
    "string_value2='10.5'  # base type is float == represents in quotes ==== finally it is string type \n",
    "int(string_value2)    # error \n",
    "float(string_value2) # error\n",
    "bool(string_value2)  # True \n",
    "complex(string_value2) # error"
   ]
  },
  {
   "cell_type": "code",
   "execution_count": 24,
   "id": "81a25659",
   "metadata": {},
   "outputs": [
    {
     "ename": "ValueError",
     "evalue": "invalid literal for int() with base 10: '10.5'",
     "output_type": "error",
     "traceback": [
      "\u001b[1;31m---------------------------------------------------------------------------\u001b[0m",
      "\u001b[1;31mValueError\u001b[0m                                Traceback (most recent call last)",
      "Cell \u001b[1;32mIn[24], line 2\u001b[0m\n\u001b[0;32m      1\u001b[0m string_value2\u001b[38;5;241m=\u001b[39m\u001b[38;5;124m'\u001b[39m\u001b[38;5;124m10.5\u001b[39m\u001b[38;5;124m'\u001b[39m  \u001b[38;5;66;03m# base type is float == represents in quotes ==== finally it is string type \u001b[39;00m\n\u001b[1;32m----> 2\u001b[0m \u001b[38;5;28mint\u001b[39m(string_value2)\n",
      "\u001b[1;31mValueError\u001b[0m: invalid literal for int() with base 10: '10.5'"
     ]
    }
   ],
   "source": [
    "string_value2='10.5'  # base type is float == represents in quotes ==== finally it is string type \n",
    "int(string_value2) "
   ]
  },
  {
   "cell_type": "code",
   "execution_count": 25,
   "id": "ff06f3c7",
   "metadata": {},
   "outputs": [
    {
     "data": {
      "text/plain": [
       "10.5"
      ]
     },
     "execution_count": 25,
     "metadata": {},
     "output_type": "execute_result"
    }
   ],
   "source": [
    "string_value2='10.5'\n",
    "float(string_value2)"
   ]
  },
  {
   "cell_type": "code",
   "execution_count": 26,
   "id": "a1874bae",
   "metadata": {},
   "outputs": [
    {
     "data": {
      "text/plain": [
       "True"
      ]
     },
     "execution_count": 26,
     "metadata": {},
     "output_type": "execute_result"
    }
   ],
   "source": [
    "string_value2='10.5'\n",
    "bool(string_value2)"
   ]
  },
  {
   "cell_type": "code",
   "execution_count": 27,
   "id": "a14f62ca",
   "metadata": {},
   "outputs": [
    {
     "data": {
      "text/plain": [
       "(10.5+0j)"
      ]
     },
     "execution_count": 27,
     "metadata": {},
     "output_type": "execute_result"
    }
   ],
   "source": [
    "complex(string_value2)"
   ]
  },
  {
   "cell_type": "code",
   "execution_count": 28,
   "id": "3995b5c1",
   "metadata": {},
   "outputs": [
    {
     "ename": "ValueError",
     "evalue": "invalid literal for int() with base 10: '10.5'",
     "output_type": "error",
     "traceback": [
      "\u001b[1;31m---------------------------------------------------------------------------\u001b[0m",
      "\u001b[1;31mValueError\u001b[0m                                Traceback (most recent call last)",
      "Cell \u001b[1;32mIn[28], line 2\u001b[0m\n\u001b[0;32m      1\u001b[0m \u001b[38;5;28mfloat\u001b[39m(\u001b[38;5;124m'\u001b[39m\u001b[38;5;124m10\u001b[39m\u001b[38;5;124m'\u001b[39m)   \u001b[38;5;66;03m#----------> works \u001b[39;00m\n\u001b[1;32m----> 2\u001b[0m \u001b[38;5;28mint\u001b[39m (\u001b[38;5;124m'\u001b[39m\u001b[38;5;124m10.5\u001b[39m\u001b[38;5;124m'\u001b[39m)\n",
      "\u001b[1;31mValueError\u001b[0m: invalid literal for int() with base 10: '10.5'"
     ]
    }
   ],
   "source": [
    "float('10')   #----------> works \n",
    "int ('10.5')  #---------> fail "
   ]
  },
  {
   "cell_type": "code",
   "execution_count": 29,
   "id": "77c2ef74",
   "metadata": {},
   "outputs": [
    {
     "data": {
      "text/plain": [
       "10"
      ]
     },
     "execution_count": 29,
     "metadata": {},
     "output_type": "execute_result"
    }
   ],
   "source": [
    "string1='10.5'\n",
    "n1=float(string1)\n",
    "n2=int(n1)\n",
    "n2"
   ]
  },
  {
   "cell_type": "markdown",
   "id": "aaaa8e68",
   "metadata": {},
   "source": [
    "## 4. Convert boolean to all other types "
   ]
  },
  {
   "cell_type": "code",
   "execution_count": 31,
   "id": "1e03adf9",
   "metadata": {},
   "outputs": [
    {
     "name": "stdout",
     "output_type": "stream",
     "text": [
      "True\n"
     ]
    },
    {
     "data": {
      "text/plain": [
       "(1+0j)"
      ]
     },
     "execution_count": 31,
     "metadata": {},
     "output_type": "execute_result"
    }
   ],
   "source": [
    "val1=True    \n",
    "int(val1)\n",
    "float(val1)\n",
    "str(val1)\n",
    "complex(val1)"
   ]
  },
  {
   "cell_type": "code",
   "execution_count": 32,
   "id": "046a4917",
   "metadata": {},
   "outputs": [
    {
     "data": {
      "text/plain": [
       "1"
      ]
     },
     "execution_count": 32,
     "metadata": {},
     "output_type": "execute_result"
    }
   ],
   "source": [
    "val1=True    \n",
    "int(val1)"
   ]
  },
  {
   "cell_type": "code",
   "execution_count": 33,
   "id": "4d674a8d",
   "metadata": {},
   "outputs": [
    {
     "data": {
      "text/plain": [
       "1.0"
      ]
     },
     "execution_count": 33,
     "metadata": {},
     "output_type": "execute_result"
    }
   ],
   "source": [
    "float(val1)"
   ]
  },
  {
   "cell_type": "code",
   "execution_count": 34,
   "id": "2fe53d09",
   "metadata": {},
   "outputs": [
    {
     "data": {
      "text/plain": [
       "'True'"
      ]
     },
     "execution_count": 34,
     "metadata": {},
     "output_type": "execute_result"
    }
   ],
   "source": [
    "str(val1)\n"
   ]
  },
  {
   "cell_type": "code",
   "execution_count": 35,
   "id": "10865b08",
   "metadata": {},
   "outputs": [
    {
     "data": {
      "text/plain": [
       "(1+0j)"
      ]
     },
     "execution_count": 35,
     "metadata": {},
     "output_type": "execute_result"
    }
   ],
   "source": [
    "complex(val1)"
   ]
  },
  {
   "cell_type": "code",
   "execution_count": 36,
   "id": "1379f213",
   "metadata": {},
   "outputs": [
    {
     "data": {
      "text/plain": [
       "0j"
      ]
     },
     "execution_count": 36,
     "metadata": {},
     "output_type": "execute_result"
    }
   ],
   "source": [
    "val1=False   \n",
    "int(val1)\n",
    "float(val1)\n",
    "str(val1)\n",
    "complex(val1)"
   ]
  },
  {
   "cell_type": "code",
   "execution_count": 37,
   "id": "1d5aa0a0",
   "metadata": {},
   "outputs": [
    {
     "data": {
      "text/plain": [
       "0"
      ]
     },
     "execution_count": 37,
     "metadata": {},
     "output_type": "execute_result"
    }
   ],
   "source": [
    "int(val1)"
   ]
  },
  {
   "cell_type": "code",
   "execution_count": 38,
   "id": "d56bf419",
   "metadata": {},
   "outputs": [
    {
     "data": {
      "text/plain": [
       "0.0"
      ]
     },
     "execution_count": 38,
     "metadata": {},
     "output_type": "execute_result"
    }
   ],
   "source": [
    "float(val1)"
   ]
  },
  {
   "cell_type": "code",
   "execution_count": 39,
   "id": "01564aa0",
   "metadata": {},
   "outputs": [
    {
     "data": {
      "text/plain": [
       "'False'"
      ]
     },
     "execution_count": 39,
     "metadata": {},
     "output_type": "execute_result"
    }
   ],
   "source": [
    "str(val1)"
   ]
  },
  {
   "cell_type": "code",
   "execution_count": 40,
   "id": "32bee46d",
   "metadata": {},
   "outputs": [
    {
     "data": {
      "text/plain": [
       "0j"
      ]
     },
     "execution_count": 40,
     "metadata": {},
     "output_type": "execute_result"
    }
   ],
   "source": [
    "complex(val1)"
   ]
  },
  {
   "cell_type": "markdown",
   "id": "79e29080",
   "metadata": {},
   "source": [
    "## 5. Convert complex to all other types "
   ]
  },
  {
   "cell_type": "code",
   "execution_count": 43,
   "id": "1d246308",
   "metadata": {},
   "outputs": [
    {
     "ename": "TypeError",
     "evalue": "int() argument must be a string, a bytes-like object or a real number, not 'complex'",
     "output_type": "error",
     "traceback": [
      "\u001b[1;31m---------------------------------------------------------------------------\u001b[0m",
      "\u001b[1;31mTypeError\u001b[0m                                 Traceback (most recent call last)",
      "Cell \u001b[1;32mIn[43], line 2\u001b[0m\n\u001b[0;32m      1\u001b[0m val1\u001b[38;5;241m=\u001b[39m\u001b[38;5;241m100\u001b[39m\u001b[38;5;241m+\u001b[39m\u001b[38;5;241m200\u001b[39mj \n\u001b[1;32m----> 2\u001b[0m \u001b[38;5;28mint\u001b[39m(val1)\n\u001b[0;32m      3\u001b[0m \u001b[38;5;28mfloat\u001b[39m(val1)\n\u001b[0;32m      4\u001b[0m \u001b[38;5;28mstr\u001b[39m(val1)\n",
      "\u001b[1;31mTypeError\u001b[0m: int() argument must be a string, a bytes-like object or a real number, not 'complex'"
     ]
    }
   ],
   "source": [
    "val1=100+200j \n",
    "int(val1)    # error complex(100)\n",
    "float(val1)  #error \n",
    "str(val1)    # gives output string\n",
    "bool(val1)   # gives true "
   ]
  },
  {
   "cell_type": "code",
   "execution_count": 44,
   "id": "5c842139",
   "metadata": {},
   "outputs": [
    {
     "ename": "TypeError",
     "evalue": "int() argument must be a string, a bytes-like object or a real number, not 'complex'",
     "output_type": "error",
     "traceback": [
      "\u001b[1;31m---------------------------------------------------------------------------\u001b[0m",
      "\u001b[1;31mTypeError\u001b[0m                                 Traceback (most recent call last)",
      "Cell \u001b[1;32mIn[44], line 2\u001b[0m\n\u001b[0;32m      1\u001b[0m val1\u001b[38;5;241m=\u001b[39m\u001b[38;5;241m100\u001b[39m\u001b[38;5;241m+\u001b[39m\u001b[38;5;241m200\u001b[39mj \n\u001b[1;32m----> 2\u001b[0m \u001b[38;5;28mint\u001b[39m(val1)\n",
      "\u001b[1;31mTypeError\u001b[0m: int() argument must be a string, a bytes-like object or a real number, not 'complex'"
     ]
    }
   ],
   "source": [
    "val1=100+200j \n",
    "int(val1)"
   ]
  },
  {
   "cell_type": "code",
   "execution_count": 45,
   "id": "e83254b5",
   "metadata": {},
   "outputs": [
    {
     "ename": "TypeError",
     "evalue": "float() argument must be a string or a real number, not 'complex'",
     "output_type": "error",
     "traceback": [
      "\u001b[1;31m---------------------------------------------------------------------------\u001b[0m",
      "\u001b[1;31mTypeError\u001b[0m                                 Traceback (most recent call last)",
      "Cell \u001b[1;32mIn[45], line 2\u001b[0m\n\u001b[0;32m      1\u001b[0m val1\u001b[38;5;241m=\u001b[39m\u001b[38;5;241m100\u001b[39m\u001b[38;5;241m+\u001b[39m\u001b[38;5;241m200\u001b[39mj \n\u001b[1;32m----> 2\u001b[0m \u001b[38;5;28mfloat\u001b[39m(val1)\n",
      "\u001b[1;31mTypeError\u001b[0m: float() argument must be a string or a real number, not 'complex'"
     ]
    }
   ],
   "source": [
    "val1=100+200j \n",
    "float(val1)"
   ]
  },
  {
   "cell_type": "code",
   "execution_count": 46,
   "id": "612b6ed9",
   "metadata": {},
   "outputs": [
    {
     "data": {
      "text/plain": [
       "'(100+200j)'"
      ]
     },
     "execution_count": 46,
     "metadata": {},
     "output_type": "execute_result"
    }
   ],
   "source": [
    "val1=100+200j \n",
    "str(val1)"
   ]
  },
  {
   "cell_type": "code",
   "execution_count": 47,
   "id": "24e462a3",
   "metadata": {},
   "outputs": [
    {
     "data": {
      "text/plain": [
       "True"
      ]
     },
     "execution_count": 47,
     "metadata": {},
     "output_type": "execute_result"
    }
   ],
   "source": [
    "val1=100+200j \n",
    "bool(val1)"
   ]
  },
  {
   "cell_type": "code",
   "execution_count": null,
   "id": "dd4e0245",
   "metadata": {},
   "outputs": [],
   "source": []
  }
 ],
 "metadata": {
  "kernelspec": {
   "display_name": "Python 3 (ipykernel)",
   "language": "python",
   "name": "python3"
  },
  "language_info": {
   "codemirror_mode": {
    "name": "ipython",
    "version": 3
   },
   "file_extension": ".py",
   "mimetype": "text/x-python",
   "name": "python",
   "nbconvert_exporter": "python",
   "pygments_lexer": "ipython3",
   "version": "3.11.5"
  }
 },
 "nbformat": 4,
 "nbformat_minor": 5
}
